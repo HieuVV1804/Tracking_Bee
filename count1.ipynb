{
 "cells": [
  {
   "cell_type": "code",
   "execution_count": 1,
   "metadata": {},
   "outputs": [],
   "source": [
    "import os\n",
    "import numpy as np\n",
    "import cv2\n",
    "import math\n",
    "import pandas"
   ]
  },
  {
   "cell_type": "code",
   "execution_count": 2,
   "metadata": {},
   "outputs": [],
   "source": [
    "data=pandas.read_csv('output/results.txt', delimiter = ',')"
   ]
  },
  {
   "cell_type": "code",
   "execution_count": 3,
   "metadata": {},
   "outputs": [],
   "source": [
    "data.astype(int).to_csv('7002603.csv',encoding='utf-8',index=False)"
   ]
  },
  {
   "cell_type": "code",
   "execution_count": 20,
   "metadata": {},
   "outputs": [
    {
     "name": "stdout",
     "output_type": "stream",
     "text": [
      "1348\n"
     ]
    }
   ],
   "source": [
    "path_img = ('E:/Download/output/test/Bee3598.jpg')\n",
    "file_txt = open(\"26-3-2022/results700.txt\")\n",
    "ID = []\n",
    "flying_out = 0\n",
    "flying_in = 0\n",
    "crawling = 0\n",
    "\n",
    "def distance(p0, p1):\n",
    "    return math.sqrt((p0[0] - p1[0]) ** 2 + (p0[1] - p1[1]) ** 2)\n",
    "\n",
    "file_data = file_txt.readlines()\n",
    "for line in file_data:\n",
    "    data = [x for x in line.split(\",\")]\n",
    "    id = int(data[3])\n",
    "    ID.append(id)\n",
    "    \n",
    "ID = set(ID)\n",
    "print(len(ID))\n",
    "\n",
    "for i in range(1, max(ID) + 1):\n",
    "    point_y = []\n",
    "    list_points = []\n",
    "    count = 0\n",
    "    count1 = 0\n",
    "    count2 = 0\n",
    "    for line in file_data:\n",
    "        data = [x for x in line.split(\",\")]\n",
    "        id = int(data[3])\n",
    "        if id == i:\n",
    "            frame_id = data[0]\n",
    "            x = int(data[1])\n",
    "            y = int(data[2])\n",
    "            pt = [x, y]\n",
    "            list_points.append(pt)\n",
    "            point_y.append(y)\n",
    "        else:\n",
    "            pass\n",
    "    if len(list_points) > 2:\n",
    "        a = distance(list_points[0], list_points[1])\n",
    "        b = distance(list_points[0], list_points[len(list_points) - 1])\n",
    "        d = np.argmax(point_y)\n",
    "        #print(\"a : \", a)\n",
    "        #print(\"b : \", b)\n",
    "        #print(\"dis : \", dis)\n",
    "        #print(len(list_points))\n",
    "        g = distance(list_points[0], list_points[d])\n",
    "        h = distance(list_points[d], list_points[len(list_points) - 1])\n",
    "        if b != 0 and max(g, h) != 0:\n",
    "            dis = round(a / b * 100, 2)\n",
    "            dis1 = round(min(g, h) / max(g, h) * 100, 2)\n",
    "            #print(\"dis1 : \", dis1)\n",
    "            for j in range(len(point_y) - 2):\n",
    "                if point_y[j] > point_y[0]:\n",
    "                    count1 += 1\n",
    "                else:\n",
    "                    count2 += 1\n",
    "                if point_y[j] >= point_y[j + 1] >= point_y[j + 2] or point_y[j] <= point_y[j + 1] <= point_y[j + 2]:\n",
    "                    continue\n",
    "                else:\n",
    "                    count += 1\n",
    "                \n",
    "            if max(count1, count2) != 0:\n",
    "                if max(count1, count2) <300:\n",
    "                    error = round(count / max(count1, count2) * 100, 2)\n",
    "                    if error <= 57 and dis <= 60 and dis1 <= 42:\n",
    "                        if point_y[0] < point_y[len(point_y) - 1]:\n",
    "                            if point_y[0] <= 820:\n",
    "                                flying_in += 1\n",
    "                            else:\n",
    "                                crawling += 1\n",
    "                        else:\n",
    "                            if 780 <= point_y[0] <= 863:\n",
    "                                flying_out += 1\n",
    "                            else:\n",
    "                                crawling += 1\n",
    "                    else:\n",
    "                        crawling += 1\n",
    "                else:\n",
    "                    error = round(count / max(count1, count2) * 100, 2)\n",
    "                    if error <= 15 and dis1 <= 45 and dis <= 38:\n",
    "                        if point_y[0] < point_y[len(point_y) - 1]:\n",
    "                            if point_y[0] <= 820:\n",
    "                                flying_in += 1\n",
    "                            else:\n",
    "                                crawling += 1\n",
    "                        else:\n",
    "                            if 780 <= point_y[0] <= 863:\n",
    "                                flying_out += 1\n",
    "                            else:\n",
    "                                crawling += 1\n",
    "                    else:\n",
    "                        crawling += 1\n",
    "            else:\n",
    "                pass\n",
    "        else:\n",
    "            pass\n",
    "print(flying_in)\n",
    "print(flying_out)\n",
    "#print(crawling)    \n",
    "label1 = f'flying_in : {flying_in}'\n",
    "label2 = f'flying_out : {flying_out}'\n",
    "#label3 = f'crawling : {crawling}'\n",
    "img = cv2.imread(path_img)\n",
    "cv2.putText(img, label1, org=(100, 50), fontFace=cv2.FONT_HERSHEY_PLAIN, fontScale=3,\n",
    "            color=(0, 255, 0), thickness=3)\n",
    "cv2.putText(img, label2, org=(100, 100), fontFace=cv2.FONT_HERSHEY_PLAIN, fontScale=3,\n",
    "            color=(255, 0, 0), thickness=3)\n",
    "#cv2.putText(img, label3, org=(100, 150), fontFace=cv2.FONT_HERSHEY_PLAIN, fontScale=3,\n",
    "            #color=(0, 0, 255), thickness=3)\n",
    "\n",
    "#cv2.imwrite(f'E:/Download/output/test/Bee.jpg', img) \n",
    "\n",
    "            \n",
    "        \n",
    "\n",
    "\n",
    "\n",
    "\n",
    "            \n",
    "        "
   ]
  }
 ],
 "metadata": {
  "kernelspec": {
   "display_name": "Python 3.9.12 64-bit",
   "language": "python",
   "name": "python3"
  },
  "language_info": {
   "codemirror_mode": {
    "name": "ipython",
    "version": 3
   },
   "file_extension": ".py",
   "mimetype": "text/x-python",
   "name": "python",
   "nbconvert_exporter": "python",
   "pygments_lexer": "ipython3",
   "version": "3.9.12"
  },
  "orig_nbformat": 4,
  "vscode": {
   "interpreter": {
    "hash": "2043299c89c8cd0b4d1a6f5cf4529bd58e6a4e0fe3181a25e0d328c821cdc5c5"
   }
  }
 },
 "nbformat": 4,
 "nbformat_minor": 2
}
